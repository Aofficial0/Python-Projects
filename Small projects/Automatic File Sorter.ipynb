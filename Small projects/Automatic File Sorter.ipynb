{
 "cells": [
  {
   "cell_type": "markdown",
   "id": "3b6e72d8-0b92-45e3-8054-416d399fd0b6",
   "metadata": {},
   "source": [
    "# Automatic File Sorter in File Explorer"
   ]
  },
  {
   "cell_type": "code",
   "execution_count": 1,
   "id": "4b351ad5-79e3-4a54-b266-d2ea7bff0441",
   "metadata": {},
   "outputs": [],
   "source": [
    "import os, shutil"
   ]
  },
  {
   "cell_type": "code",
   "execution_count": 7,
   "id": "080d29e4-a253-496d-ac1e-5316db6c2277",
   "metadata": {},
   "outputs": [],
   "source": [
    "path = r\"C:/Users/FierceP/OneDrive/Desktop/data port/python/Small projects/New folder/\""
   ]
  },
  {
   "cell_type": "code",
   "execution_count": 20,
   "id": "5a8671e7-5bd2-4feb-b90c-bbee17c8c54f",
   "metadata": {},
   "outputs": [],
   "source": [
    "file_name = os.listdir(path)"
   ]
  },
  {
   "cell_type": "code",
   "execution_count": 13,
   "id": "4b8a14ae-7531-4289-85da-6c5f85a9d925",
   "metadata": {},
   "outputs": [],
   "source": [
    "Folder_names = ['excel files', 'image files', 'text files']\n",
    "\n",
    "for loop in range(0,3):\n",
    "   if not os.path.exists(path + Folder_names[loop]):\n",
    "       print(path + folder_names[loop])\n",
    "       os.makedirs((path + Folder_names[loop]))"
   ]
  },
  {
   "cell_type": "code",
   "execution_count": 25,
   "id": "816fb494-54c5-4c1f-be31-07dc93efa1e8",
   "metadata": {},
   "outputs": [],
   "source": [
    "for file in file_name:\n",
    "    if \".xlsx\" in file and not os.path.exists(path + 'excel files/' + file):\n",
    "        shutil.move(path + file, path + 'excel files/' + file)\n",
    "    elif \".png\" in file and not os.path.exists(path + 'image files/' + file):\n",
    "        shutil.move(path + file, path + 'image files/' + file)\n",
    "    elif \".txt\" in file and not os.path.exists(path + 'text files/' + file):\n",
    "        shutil.move(path + file, path + 'text files/' + file)\n"
   ]
  },
  {
   "cell_type": "code",
   "execution_count": null,
   "id": "e7301215-f488-483e-a42d-3d6f96b0795b",
   "metadata": {},
   "outputs": [],
   "source": []
  },
  {
   "cell_type": "code",
   "execution_count": null,
   "id": "2a34afc3-0918-4dbc-9c9a-a2a3c3a786e8",
   "metadata": {},
   "outputs": [],
   "source": []
  },
  {
   "cell_type": "code",
   "execution_count": null,
   "id": "84f072ec-a092-46f8-bd99-3ac4825f4181",
   "metadata": {},
   "outputs": [],
   "source": []
  },
  {
   "cell_type": "code",
   "execution_count": null,
   "id": "4a6e9091-6e94-4398-a25e-6bb8b0cb1a3b",
   "metadata": {},
   "outputs": [],
   "source": []
  },
  {
   "cell_type": "code",
   "execution_count": null,
   "id": "7a48435e-3334-4767-a658-cd3736678b03",
   "metadata": {},
   "outputs": [],
   "source": []
  },
  {
   "cell_type": "code",
   "execution_count": null,
   "id": "38cd48db-49c8-4fe6-888a-91384fe83c00",
   "metadata": {},
   "outputs": [],
   "source": []
  },
  {
   "cell_type": "code",
   "execution_count": null,
   "id": "8ef37a5e-c308-4dcb-9adf-7c20bb4743fd",
   "metadata": {},
   "outputs": [],
   "source": []
  }
 ],
 "metadata": {
  "kernelspec": {
   "display_name": "Python 3 (ipykernel)",
   "language": "python",
   "name": "python3"
  },
  "language_info": {
   "codemirror_mode": {
    "name": "ipython",
    "version": 3
   },
   "file_extension": ".py",
   "mimetype": "text/x-python",
   "name": "python",
   "nbconvert_exporter": "python",
   "pygments_lexer": "ipython3",
   "version": "3.11.7"
  }
 },
 "nbformat": 4,
 "nbformat_minor": 5
}
